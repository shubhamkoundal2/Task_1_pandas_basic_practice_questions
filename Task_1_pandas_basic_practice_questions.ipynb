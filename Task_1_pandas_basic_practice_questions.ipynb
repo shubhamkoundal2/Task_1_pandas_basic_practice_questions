{
  "metadata": {
    "kernelspec": {
      "language": "python",
      "display_name": "Python 3",
      "name": "python3"
    },
    "language_info": {
      "name": "python",
      "version": "3.7.12",
      "mimetype": "text/x-python",
      "codemirror_mode": {
        "name": "ipython",
        "version": 3
      },
      "pygments_lexer": "ipython3",
      "nbconvert_exporter": "python",
      "file_extension": ".py"
    },
    "colab": {
      "provenance": []
    }
  },
  "nbformat_minor": 0,
  "nbformat": 4,
  "cells": [
    {
      "cell_type": "markdown",
      "source": [
        "**Consider the following Python dictionary data and Python list labels:**\n",
        "\n",
        "data = {'birds': ['Cranes', 'Cranes', 'plovers', 'spoonbills', 'spoonbills', 'Cranes', 'plovers', 'Cranes', 'spoonbills', 'spoonbills'],\n",
        "        'age': [3.5, 4, 1.5, np.nan, 6, 3, 5.5, np.nan, 8, 4],\n",
        "        'visits': [2, 4, 3, 4, 3, 4, 2, 2, 3, 2],\n",
        "        'priority': ['yes', 'yes', 'no', 'yes', 'no', 'no', 'no', 'yes', 'no', 'no']}\n",
        "\n",
        "labels = ['a', 'b', 'c', 'd', 'e', 'f', 'g', 'h', 'i', 'j']\n"
      ],
      "metadata": {
        "id": "WFYuAxS2hcu6"
      }
    },
    {
      "cell_type": "markdown",
      "source": [
        "**1. Create a DataFrame birds from this dictionary data which has the index labels.**"
      ],
      "metadata": {
        "id": "KaY8jRX3hcu9"
      }
    },
    {
      "cell_type": "code",
      "source": [
        "import pandas as pd\n",
        "import numpy as np\n",
        "\n",
        "data = {'birds': ['Cranes', 'Cranes', 'plovers', 'spoonbills', 'spoonbills', 'Cranes', 'plovers', 'Cranes', 'spoonbills', 'spoonbills'],\n",
        "        'age': [3.5, 4, 1.5, np.nan, 6, 3, 5.5, np.nan, 8, 4],\n",
        "        'visits': [2, 4, 3, 4, 3, 4, 2, 2, 3, 2],\n",
        "        'priority': ['yes', 'yes', 'no', 'yes', 'no', 'no', 'no', 'yes', 'no', 'no']}\n",
        "\n",
        "labels = ['a', 'b', 'c', 'd', 'e', 'f', 'g', 'h', 'i', 'j']\n",
        "\n",
        "birds = pd.DataFrame(data, index=labels)\n",
        "\n",
        "print(birds)\n"
      ],
      "metadata": {
        "id": "AWrM74tnhcu_",
        "execution": {
          "iopub.status.busy": "2023-05-31T15:24:37.766487Z",
          "iopub.execute_input": "2023-05-31T15:24:37.767374Z",
          "iopub.status.idle": "2023-05-31T15:24:37.790508Z",
          "shell.execute_reply.started": "2023-05-31T15:24:37.767330Z",
          "shell.execute_reply": "2023-05-31T15:24:37.789049Z"
        },
        "trusted": true,
        "outputId": "092fdf7d-7c2e-4e04-b837-e2567703e499"
      },
      "execution_count": null,
      "outputs": [
        {
          "name": "stdout",
          "text": "        birds  age  visits priority\na      Cranes  3.5       2      yes\nb      Cranes  4.0       4      yes\nc     plovers  1.5       3       no\nd  spoonbills  NaN       4      yes\ne  spoonbills  6.0       3       no\nf      Cranes  3.0       4       no\ng     plovers  5.5       2       no\nh      Cranes  NaN       2      yes\ni  spoonbills  8.0       3       no\nj  spoonbills  4.0       2       no\n",
          "output_type": "stream"
        }
      ]
    },
    {
      "cell_type": "markdown",
      "source": [
        "**2. Display a summary of the basic information about birds DataFrame and its data.**"
      ],
      "metadata": {
        "id": "31bQ4H55hcvG"
      }
    },
    {
      "cell_type": "code",
      "source": [
        "data = {'birds': ['Cranes', 'Cranes', 'plovers', 'spoonbills', 'spoonbills', 'Cranes', 'plovers', 'Cranes', 'spoonbills', 'spoonbills'],\n",
        "        'age': [3.5, 4, 1.5, np.nan, 6, 3, 5.5, np.nan, 8, 4],\n",
        "        'visits': [2, 4, 3, 4, 3, 4, 2, 2, 3, 2],\n",
        "        'priority': ['yes', 'yes', 'no', 'yes', 'no', 'no', 'no', 'yes', 'no', 'no']}\n",
        "\n",
        "labels = ['a', 'b', 'c', 'd', 'e', 'f', 'g', 'h', 'i', 'j']\n",
        "\n",
        "birds = pd.DataFrame(data, index=labels)\n",
        "\n",
        "print(birds.info())\n",
        "print(birds.describe())\n"
      ],
      "metadata": {
        "id": "PT7e5BiThcvI",
        "execution": {
          "iopub.status.busy": "2023-05-31T15:26:02.375534Z",
          "iopub.execute_input": "2023-05-31T15:26:02.376046Z",
          "iopub.status.idle": "2023-05-31T15:26:02.418758Z",
          "shell.execute_reply.started": "2023-05-31T15:26:02.376010Z",
          "shell.execute_reply": "2023-05-31T15:26:02.417692Z"
        },
        "trusted": true,
        "outputId": "0f41b450-2ad2-4796-86bd-0343ebdce87b"
      },
      "execution_count": null,
      "outputs": [
        {
          "name": "stdout",
          "text": "<class 'pandas.core.frame.DataFrame'>\nIndex: 10 entries, a to j\nData columns (total 4 columns):\n #   Column    Non-Null Count  Dtype  \n---  ------    --------------  -----  \n 0   birds     10 non-null     object \n 1   age       8 non-null      float64\n 2   visits    10 non-null     int64  \n 3   priority  10 non-null     object \ndtypes: float64(1), int64(1), object(2)\nmemory usage: 400.0+ bytes\nNone\n            age     visits\ncount  8.000000  10.000000\nmean   4.437500   2.900000\nstd    2.007797   0.875595\nmin    1.500000   2.000000\n25%    3.375000   2.000000\n50%    4.000000   3.000000\n75%    5.625000   3.750000\nmax    8.000000   4.000000\n",
          "output_type": "stream"
        }
      ]
    },
    {
      "cell_type": "markdown",
      "source": [
        "**3. Print the first 2 rows of the birds dataframe **"
      ],
      "metadata": {
        "id": "ppsyynzjhcvN"
      }
    },
    {
      "cell_type": "code",
      "source": [
        "data = {'birds': ['Cranes', 'Cranes', 'plovers', 'spoonbills', 'spoonbills', 'Cranes', 'plovers', 'Cranes', 'spoonbills', 'spoonbills'],\n",
        "        'age': [3.5, 4, 1.5, np.nan, 6, 3, 5.5, np.nan, 8, 4],\n",
        "        'visits': [2, 4, 3, 4, 3, 4, 2, 2, 3, 2],\n",
        "        'priority': ['yes', 'yes', 'no', 'yes', 'no', 'no', 'no', 'yes', 'no', 'no']}\n",
        "\n",
        "labels = ['a', 'b', 'c', 'd', 'e', 'f', 'g', 'h', 'i', 'j']\n",
        "\n",
        "birds = pd.DataFrame(data, index=labels)\n",
        "\n",
        "print(birds.head(2))\n"
      ],
      "metadata": {
        "id": "mJtG2ES9hcvQ",
        "execution": {
          "iopub.status.busy": "2023-05-31T15:27:02.554190Z",
          "iopub.execute_input": "2023-05-31T15:27:02.554763Z",
          "iopub.status.idle": "2023-05-31T15:27:02.572407Z",
          "shell.execute_reply.started": "2023-05-31T15:27:02.554700Z",
          "shell.execute_reply": "2023-05-31T15:27:02.571242Z"
        },
        "trusted": true,
        "outputId": "fb07ce19-cfad-4c3b-bfc8-6c5cffed0768"
      },
      "execution_count": null,
      "outputs": [
        {
          "name": "stdout",
          "text": "    birds  age  visits priority\na  Cranes  3.5       2      yes\nb  Cranes  4.0       4      yes\n",
          "output_type": "stream"
        }
      ]
    },
    {
      "cell_type": "markdown",
      "source": [
        "**4. Print all the rows with only 'birds' and 'age' columns from the dataframe**"
      ],
      "metadata": {
        "id": "331CiAQDhcvW"
      }
    },
    {
      "cell_type": "code",
      "source": [
        "data = {'birds': ['Cranes', 'Cranes', 'plovers', 'spoonbills', 'spoonbills', 'Cranes', 'plovers', 'Cranes', 'spoonbills', 'spoonbills'],\n",
        "        'age': [3.5, 4, 1.5, np.nan, 6, 3, 5.5, np.nan, 8, 4],\n",
        "        'visits': [2, 4, 3, 4, 3, 4, 2, 2, 3, 2],\n",
        "        'priority': ['yes', 'yes', 'no', 'yes', 'no', 'no', 'no', 'yes', 'no', 'no']}\n",
        "\n",
        "labels = ['a', 'b', 'c', 'd', 'e', 'f', 'g', 'h', 'i', 'j']\n",
        "\n",
        "birds = pd.DataFrame(data, index=labels)\n",
        "\n",
        "\n",
        "print(birds[['birds', 'age']])\n"
      ],
      "metadata": {
        "id": "eJm1icJhhcvY",
        "execution": {
          "iopub.status.busy": "2023-05-31T15:28:47.795790Z",
          "iopub.execute_input": "2023-05-31T15:28:47.796288Z",
          "iopub.status.idle": "2023-05-31T15:28:47.811114Z",
          "shell.execute_reply.started": "2023-05-31T15:28:47.796252Z",
          "shell.execute_reply": "2023-05-31T15:28:47.810162Z"
        },
        "trusted": true,
        "outputId": "8da10e13-de0f-4cad-a6f2-7822051a4cc0"
      },
      "execution_count": null,
      "outputs": [
        {
          "name": "stdout",
          "text": "        birds  age\na      Cranes  3.5\nb      Cranes  4.0\nc     plovers  1.5\nd  spoonbills  NaN\ne  spoonbills  6.0\nf      Cranes  3.0\ng     plovers  5.5\nh      Cranes  NaN\ni  spoonbills  8.0\nj  spoonbills  4.0\n",
          "output_type": "stream"
        }
      ]
    },
    {
      "cell_type": "markdown",
      "source": [
        "**5. select [2, 3, 7] rows and in columns ['birds', 'age', 'visits']**"
      ],
      "metadata": {
        "id": "33v_rzNyhcvf"
      }
    },
    {
      "cell_type": "code",
      "source": [
        "data = {'birds': ['Cranes', 'Cranes', 'plovers', 'spoonbills', 'spoonbills', 'Cranes', 'plovers', 'Cranes', 'spoonbills', 'spoonbills'],\n",
        "        'age': [3.5, 4, 1.5, np.nan, 6, 3, 5.5, np.nan, 8, 4],\n",
        "        'visits': [2, 4, 3, 4, 3, 4, 2, 2, 3, 2],\n",
        "        'priority': ['yes', 'yes', 'no', 'yes', 'no', 'no', 'no', 'yes', 'no', 'no']}\n",
        "\n",
        "labels = ['a', 'b', 'c', 'd', 'e', 'f', 'g', 'h', 'i', 'j']\n",
        "\n",
        "birds = pd.DataFrame(data, index=labels)\n",
        "\n",
        "\n",
        "selected_rows = birds.loc[[labels[2], labels[3], labels[7]], ['birds', 'age', 'visits']]\n",
        "\n",
        "print(selected_rows)\n"
      ],
      "metadata": {
        "id": "ia5weqCOhcvh",
        "execution": {
          "iopub.status.busy": "2023-05-31T15:29:52.837980Z",
          "iopub.execute_input": "2023-05-31T15:29:52.838601Z",
          "iopub.status.idle": "2023-05-31T15:29:52.854415Z",
          "shell.execute_reply.started": "2023-05-31T15:29:52.838554Z",
          "shell.execute_reply": "2023-05-31T15:29:52.853175Z"
        },
        "trusted": true,
        "outputId": "7a748def-89d3-4473-89ef-e663eb503a7b"
      },
      "execution_count": null,
      "outputs": [
        {
          "name": "stdout",
          "text": "        birds  age  visits\nc     plovers  1.5       3\nd  spoonbills  NaN       4\nh      Cranes  NaN       2\n",
          "output_type": "stream"
        }
      ]
    },
    {
      "cell_type": "markdown",
      "source": [
        "**6. select the rows where the number of visits is less than 4**"
      ],
      "metadata": {
        "id": "uulxo5y-hcvo"
      }
    },
    {
      "cell_type": "code",
      "source": [
        "data = {'birds': ['Cranes', 'Cranes', 'plovers', 'spoonbills', 'spoonbills', 'Cranes', 'plovers', 'Cranes', 'spoonbills', 'spoonbills'],\n",
        "        'age': [3.5, 4, 1.5, np.nan, 6, 3, 5.5, np.nan, 8, 4],\n",
        "        'visits': [2, 4, 3, 4, 3, 4, 2, 2, 3, 2],\n",
        "        'priority': ['yes', 'yes', 'no', 'yes', 'no', 'no', 'no', 'yes', 'no', 'no']}\n",
        "\n",
        "labels = ['a', 'b', 'c', 'd', 'e', 'f', 'g', 'h', 'i', 'j']\n",
        "\n",
        "birds = pd.DataFrame(data, index=labels)\n",
        "\n",
        "\n",
        "selected_rows = birds[birds['visits'] < 4]\n",
        "\n",
        "print(selected_rows)\n"
      ],
      "metadata": {
        "id": "6Khj7LfZhcvq",
        "execution": {
          "iopub.status.busy": "2023-05-31T15:30:53.110095Z",
          "iopub.execute_input": "2023-05-31T15:30:53.111153Z",
          "iopub.status.idle": "2023-05-31T15:30:53.126030Z",
          "shell.execute_reply.started": "2023-05-31T15:30:53.111114Z",
          "shell.execute_reply": "2023-05-31T15:30:53.124777Z"
        },
        "trusted": true,
        "outputId": "63db517c-edb7-49b7-8010-b8f312c5ee81"
      },
      "execution_count": null,
      "outputs": [
        {
          "name": "stdout",
          "text": "        birds  age  visits priority\na      Cranes  3.5       2      yes\nc     plovers  1.5       3       no\ne  spoonbills  6.0       3       no\ng     plovers  5.5       2       no\nh      Cranes  NaN       2      yes\ni  spoonbills  8.0       3       no\nj  spoonbills  4.0       2       no\n",
          "output_type": "stream"
        }
      ]
    },
    {
      "cell_type": "markdown",
      "source": [
        "**7. select the rows with columns ['birds', 'visits'] where the age is missing i.e NaN**"
      ],
      "metadata": {
        "id": "sB8icEBVhcvy"
      }
    },
    {
      "cell_type": "code",
      "source": [
        "data = {\n",
        "    'birds': ['Cranes', 'Cranes', 'plovers', 'spoonbills', 'spoonbills', 'Cranes', 'plovers', 'Cranes', 'spoonbills', 'spoonbills'],\n",
        "    'age': [3.5, 4, 1.5, np.nan, 6, 3, 5.5, np.nan, 8, 4],\n",
        "    'visits': [2, 4, 3, 4, 3, 4, 2, 2, 3, 2],\n",
        "    'priority': ['yes', 'yes', 'no', 'yes', 'no', 'no', 'no', 'yes', 'no', 'no']\n",
        "}\n",
        "\n",
        "labels = ['a', 'b', 'c', 'd', 'e', 'f', 'g', 'h', 'i', 'j']\n",
        "\n",
        "birds = pd.DataFrame(data, index=labels)\n",
        "\n",
        "selected_rows = birds[birds['age'].isna()][['birds', 'visits']]\n",
        "\n",
        "print(selected_rows)\n"
      ],
      "metadata": {
        "id": "dHoZ2z2ghcv2",
        "execution": {
          "iopub.status.busy": "2023-05-31T15:31:58.533080Z",
          "iopub.execute_input": "2023-05-31T15:31:58.533516Z",
          "iopub.status.idle": "2023-05-31T15:31:58.548121Z",
          "shell.execute_reply.started": "2023-05-31T15:31:58.533482Z",
          "shell.execute_reply": "2023-05-31T15:31:58.547075Z"
        },
        "trusted": true,
        "outputId": "91145ef0-4633-449c-b70c-f0efb9bf6df1"
      },
      "execution_count": null,
      "outputs": [
        {
          "name": "stdout",
          "text": "        birds  visits\nd  spoonbills       4\nh      Cranes       2\n",
          "output_type": "stream"
        }
      ]
    },
    {
      "cell_type": "markdown",
      "source": [
        "**8. Select the rows where the birds is a Cranes and the age is less than 4**"
      ],
      "metadata": {
        "id": "sgiIkh1Ghcv-"
      }
    },
    {
      "cell_type": "code",
      "source": [
        "data = {\n",
        "    'birds': ['Cranes', 'Cranes', 'plovers', 'spoonbills', 'spoonbills', 'Cranes', 'plovers', 'Cranes', 'spoonbills', 'spoonbills'],\n",
        "    'age': [3.5, 4, 1.5, np.nan, 6, 3, 5.5, np.nan, 8, 4],\n",
        "    'visits': [2, 4, 3, 4, 3, 4, 2, 2, 3, 2],\n",
        "    'priority': ['yes', 'yes', 'no', 'yes', 'no', 'no', 'no', 'yes', 'no', 'no']\n",
        "}\n",
        "\n",
        "labels = ['a', 'b', 'c', 'd', 'e', 'f', 'g', 'h', 'i', 'j']\n",
        "\n",
        "birds = pd.DataFrame(data, index=labels)\n",
        "\n",
        "\n",
        "selected_rows = birds[(birds['birds'] == 'Cranes') & (birds['age'] < 4)]\n",
        "\n",
        "print(selected_rows)\n"
      ],
      "metadata": {
        "id": "4of7A8gehcwC",
        "execution": {
          "iopub.status.busy": "2023-05-31T15:49:51.681135Z",
          "iopub.execute_input": "2023-05-31T15:49:51.681603Z",
          "iopub.status.idle": "2023-05-31T15:49:51.697707Z",
          "shell.execute_reply.started": "2023-05-31T15:49:51.681562Z",
          "shell.execute_reply": "2023-05-31T15:49:51.696579Z"
        },
        "trusted": true,
        "outputId": "0cc4808a-02cb-41c5-e75f-b8e8a16a4dc9"
      },
      "execution_count": null,
      "outputs": [
        {
          "name": "stdout",
          "text": "    birds  age  visits priority\na  Cranes  3.5       2      yes\nf  Cranes  3.0       4       no\n",
          "output_type": "stream"
        }
      ]
    },
    {
      "cell_type": "markdown",
      "source": [
        "**9. Select the rows the age is between 2 and 4(inclusive)**"
      ],
      "metadata": {
        "id": "IZrFrd1AhcwH"
      }
    },
    {
      "cell_type": "code",
      "source": [
        "data = {\n",
        "    'birds': ['Cranes', 'Cranes', 'plovers', 'spoonbills', 'spoonbills', 'Cranes', 'plovers', 'Cranes', 'spoonbills', 'spoonbills'],\n",
        "    'age': [3.5, 4, 1.5, np.nan, 6, 3, 5.5, np.nan, 8, 4],\n",
        "    'visits': [2, 4, 3, 4, 3, 4, 2, 2, 3, 2],\n",
        "    'priority': ['yes', 'yes', 'no', 'yes', 'no', 'no', 'no', 'yes', 'no', 'no']\n",
        "}\n",
        "\n",
        "labels = ['a', 'b', 'c', 'd', 'e', 'f', 'g', 'h', 'i', 'j']\n",
        "\n",
        "birds = pd.DataFrame(data, index=labels)\n",
        "\n",
        "\n",
        "selected_rows = birds.loc[(birds['age'] >= 2) & (birds['age'] <= 4)]\n",
        "\n",
        "print(selected_rows)\n"
      ],
      "metadata": {
        "id": "Ij6co9oJhcwT",
        "execution": {
          "iopub.status.busy": "2023-05-31T15:52:13.412128Z",
          "iopub.execute_input": "2023-05-31T15:52:13.412580Z",
          "iopub.status.idle": "2023-05-31T15:52:13.428941Z",
          "shell.execute_reply.started": "2023-05-31T15:52:13.412535Z",
          "shell.execute_reply": "2023-05-31T15:52:13.427640Z"
        },
        "trusted": true,
        "outputId": "e4b0f119-d9f4-44be-a758-431937afabd4"
      },
      "execution_count": null,
      "outputs": [
        {
          "name": "stdout",
          "text": "        birds  age  visits priority\na      Cranes  3.5       2      yes\nb      Cranes  4.0       4      yes\nf      Cranes  3.0       4       no\nj  spoonbills  4.0       2       no\n",
          "output_type": "stream"
        }
      ]
    },
    {
      "cell_type": "markdown",
      "source": [
        "**10. Find the total number of visits of the bird Cranes**"
      ],
      "metadata": {
        "id": "KvV1eyyehcwX"
      }
    },
    {
      "cell_type": "code",
      "source": [
        "data = {\n",
        "    'birds': ['Cranes', 'Cranes', 'plovers', 'spoonbills', 'spoonbills', 'Cranes', 'plovers', 'Cranes', 'spoonbills', 'spoonbills'],\n",
        "    'age': [3.5, 4, 1.5, np.nan, 6, 3, 5.5, np.nan, 8, 4],\n",
        "    'visits': [2, 4, 3, 4, 3, 4, 2, 2, 3, 2],\n",
        "    'priority': ['yes', 'yes', 'no', 'yes', 'no', 'no', 'no', 'yes', 'no', 'no']\n",
        "}\n",
        "\n",
        "labels = ['a', 'b', 'c', 'd', 'e', 'f', 'g', 'h', 'i', 'j']\n",
        "\n",
        "birds = pd.DataFrame(data, index=labels)\n",
        "\n",
        "\n",
        "total_visits = birds.loc[birds['birds'] == 'Cranes', 'visits'].sum()\n",
        "\n",
        "print(\"Total visits of the bird Cranes:\", total_visits)\n"
      ],
      "metadata": {
        "id": "y5NyL569hcwY",
        "execution": {
          "iopub.status.busy": "2023-05-31T15:53:03.112980Z",
          "iopub.execute_input": "2023-05-31T15:53:03.113448Z",
          "iopub.status.idle": "2023-05-31T15:53:03.126113Z",
          "shell.execute_reply.started": "2023-05-31T15:53:03.113406Z",
          "shell.execute_reply": "2023-05-31T15:53:03.124773Z"
        },
        "trusted": true,
        "outputId": "a0c99df3-0c57-46f8-a065-0acb97329c0f"
      },
      "execution_count": null,
      "outputs": [
        {
          "name": "stdout",
          "text": "Total visits of the bird Cranes: 12\n",
          "output_type": "stream"
        }
      ]
    },
    {
      "cell_type": "markdown",
      "source": [
        "**11. Calculate the mean age for each different birds in dataframe.**"
      ],
      "metadata": {
        "id": "S-1B7oDehcwf"
      }
    },
    {
      "cell_type": "code",
      "source": [
        "data = {\n",
        "    'birds': ['Cranes', 'Cranes', 'plovers', 'spoonbills', 'spoonbills', 'Cranes', 'plovers', 'Cranes', 'spoonbills', 'spoonbills'],\n",
        "    'age': [3.5, 4, 1.5, np.nan, 6, 3, 5.5, np.nan, 8, 4],\n",
        "    'visits': [2, 4, 3, 4, 3, 4, 2, 2, 3, 2],\n",
        "    'priority': ['yes', 'yes', 'no', 'yes', 'no', 'no', 'no', 'yes', 'no', 'no']\n",
        "}\n",
        "\n",
        "labels = ['a', 'b', 'c', 'd', 'e', 'f', 'g', 'h', 'i', 'j']\n",
        "\n",
        "birds = pd.DataFrame(data, index=labels)\n",
        "\n",
        "\n",
        "mean_age_per_bird = birds.groupby('birds')['age'].mean()\n",
        "\n",
        "print(mean_age_per_bird)\n"
      ],
      "metadata": {
        "id": "ljKjf7nyhcwg",
        "execution": {
          "iopub.status.busy": "2023-05-31T15:54:14.045876Z",
          "iopub.execute_input": "2023-05-31T15:54:14.046323Z",
          "iopub.status.idle": "2023-05-31T15:54:14.061509Z",
          "shell.execute_reply.started": "2023-05-31T15:54:14.046294Z",
          "shell.execute_reply": "2023-05-31T15:54:14.060103Z"
        },
        "trusted": true,
        "outputId": "6ab8f98a-00b2-41c9-f573-1f41846db02f"
      },
      "execution_count": null,
      "outputs": [
        {
          "name": "stdout",
          "text": "birds\nCranes        3.5\nplovers       3.5\nspoonbills    6.0\nName: age, dtype: float64\n",
          "output_type": "stream"
        }
      ]
    },
    {
      "cell_type": "markdown",
      "source": [
        "**12. Append a new row 'k' to dataframe with your choice of values for each column. Then delete that row to return the original DataFrame.**"
      ],
      "metadata": {
        "id": "B5HIznnMhcwl"
      }
    },
    {
      "cell_type": "code",
      "source": [
        "data = {\n",
        "    'birds': ['Cranes', 'Cranes', 'plovers', 'spoonbills', 'spoonbills', 'Cranes', 'plovers', 'Cranes', 'spoonbills', 'spoonbills'],\n",
        "    'age': [3.5, 4, 1.5, np.nan, 6, 3, 5.5, np.nan, 8, 4],\n",
        "    'visits': [2, 4, 3, 4, 3, 4, 2, 2, 3, 2],\n",
        "    'priority': ['yes', 'yes', 'no', 'yes', 'no', 'no', 'no', 'yes', 'no', 'no']\n",
        "}\n",
        "\n",
        "labels = ['a', 'b', 'c', 'd', 'e', 'f', 'g', 'h', 'i', 'j']\n",
        "\n",
        "birds = pd.DataFrame(data, index=labels)\n",
        "\n",
        "\n",
        "birds.loc['k'] = ['Sparrow', 2.5, 1, 'no']\n",
        "\n",
        "print(birds)\n",
        "\n",
        "\n",
        "birds = birds.drop('k')\n",
        "\n",
        "print(birds)\n"
      ],
      "metadata": {
        "id": "GDDd9mXEhcwm",
        "execution": {
          "iopub.status.busy": "2023-05-31T15:55:35.009900Z",
          "iopub.execute_input": "2023-05-31T15:55:35.010569Z",
          "iopub.status.idle": "2023-05-31T15:55:35.032169Z",
          "shell.execute_reply.started": "2023-05-31T15:55:35.010532Z",
          "shell.execute_reply": "2023-05-31T15:55:35.031047Z"
        },
        "trusted": true,
        "outputId": "8c8f04c2-0a28-4318-8da9-4d6d720a020e"
      },
      "execution_count": null,
      "outputs": [
        {
          "name": "stdout",
          "text": "        birds  age  visits priority\na      Cranes  3.5       2      yes\nb      Cranes  4.0       4      yes\nc     plovers  1.5       3       no\nd  spoonbills  NaN       4      yes\ne  spoonbills  6.0       3       no\nf      Cranes  3.0       4       no\ng     plovers  5.5       2       no\nh      Cranes  NaN       2      yes\ni  spoonbills  8.0       3       no\nj  spoonbills  4.0       2       no\nk     Sparrow  2.5       1       no\n        birds  age  visits priority\na      Cranes  3.5       2      yes\nb      Cranes  4.0       4      yes\nc     plovers  1.5       3       no\nd  spoonbills  NaN       4      yes\ne  spoonbills  6.0       3       no\nf      Cranes  3.0       4       no\ng     plovers  5.5       2       no\nh      Cranes  NaN       2      yes\ni  spoonbills  8.0       3       no\nj  spoonbills  4.0       2       no\n",
          "output_type": "stream"
        }
      ]
    },
    {
      "cell_type": "markdown",
      "source": [
        "**13. Find the number of each type of birds in dataframe (Counts)**"
      ],
      "metadata": {
        "id": "_cLx6xLahcwq"
      }
    },
    {
      "cell_type": "code",
      "source": [
        "data = {\n",
        "    'birds': ['Cranes', 'Cranes', 'plovers', 'spoonbills', 'spoonbills', 'Cranes', 'plovers', 'Cranes', 'spoonbills', 'spoonbills'],\n",
        "    'age': [3.5, 4, 1.5, np.nan, 6, 3, 5.5, np.nan, 8, 4],\n",
        "    'visits': [2, 4, 3, 4, 3, 4, 2, 2, 3, 2],\n",
        "    'priority': ['yes', 'yes', 'no', 'yes', 'no', 'no', 'no', 'yes', 'no', 'no']\n",
        "}\n",
        "\n",
        "labels = ['a', 'b', 'c', 'd', 'e', 'f', 'g', 'h', 'i', 'j']\n",
        "\n",
        "birds = pd.DataFrame(data, index=labels)\n",
        "\n",
        "\n",
        "bird_counts = birds['birds'].value_counts()\n",
        "\n",
        "print(bird_counts)\n"
      ],
      "metadata": {
        "id": "aTHV8JJMhcws",
        "execution": {
          "iopub.status.busy": "2023-05-31T15:56:26.152652Z",
          "iopub.execute_input": "2023-05-31T15:56:26.153153Z",
          "iopub.status.idle": "2023-05-31T15:56:26.164579Z",
          "shell.execute_reply.started": "2023-05-31T15:56:26.153118Z",
          "shell.execute_reply": "2023-05-31T15:56:26.163846Z"
        },
        "trusted": true,
        "outputId": "0fdc91b4-e877-4667-c62f-14cdb6c23b80"
      },
      "execution_count": null,
      "outputs": [
        {
          "name": "stdout",
          "text": "Cranes        4\nspoonbills    4\nplovers       2\nName: birds, dtype: int64\n",
          "output_type": "stream"
        }
      ]
    },
    {
      "cell_type": "markdown",
      "source": [
        "**14. Sort dataframe (birds) first by the values in the 'age' in decending order, then by the value in the 'visits' column in ascending order.**"
      ],
      "metadata": {
        "id": "-SJ6OYuYhcww"
      }
    },
    {
      "cell_type": "code",
      "source": [
        "data = {\n",
        "    'birds': ['Cranes', 'Cranes', 'plovers', 'spoonbills', 'spoonbills', 'Cranes', 'plovers', 'Cranes', 'spoonbills', 'spoonbills'],\n",
        "    'age': [3.5, 4, 1.5, np.nan, 6, 3, 5.5, np.nan, 8, 4],\n",
        "    'visits': [2, 4, 3, 4, 3, 4, 2, 2, 3, 2],\n",
        "    'priority': ['yes', 'yes', 'no', 'yes', 'no', 'no', 'no', 'yes', 'no', 'no']\n",
        "}\n",
        "\n",
        "labels = ['a', 'b', 'c', 'd', 'e', 'f', 'g', 'h', 'i', 'j']\n",
        "\n",
        "birds = pd.DataFrame(data, index=labels)\n",
        "\n",
        "\n",
        "sorted_birds = birds.sort_values(by=['age', 'visits'], ascending=[False, True])\n",
        "\n",
        "print(sorted_birds)\n"
      ],
      "metadata": {
        "id": "1oeqEqBjhcwy",
        "execution": {
          "iopub.status.busy": "2023-05-31T15:57:12.057354Z",
          "iopub.execute_input": "2023-05-31T15:57:12.058334Z",
          "iopub.status.idle": "2023-05-31T15:57:12.077062Z",
          "shell.execute_reply.started": "2023-05-31T15:57:12.058291Z",
          "shell.execute_reply": "2023-05-31T15:57:12.076088Z"
        },
        "trusted": true,
        "outputId": "3d579209-ed2b-40df-8571-236151e48a3d"
      },
      "execution_count": null,
      "outputs": [
        {
          "name": "stdout",
          "text": "        birds  age  visits priority\ni  spoonbills  8.0       3       no\ne  spoonbills  6.0       3       no\ng     plovers  5.5       2       no\nj  spoonbills  4.0       2       no\nb      Cranes  4.0       4      yes\na      Cranes  3.5       2      yes\nf      Cranes  3.0       4       no\nc     plovers  1.5       3       no\nh      Cranes  NaN       2      yes\nd  spoonbills  NaN       4      yes\n",
          "output_type": "stream"
        }
      ]
    },
    {
      "cell_type": "markdown",
      "source": [
        "**15. Replace the priority column values with'yes' should be 1 and 'no' should be 0**"
      ],
      "metadata": {
        "id": "JaKj7ZQUhcw7"
      }
    },
    {
      "cell_type": "code",
      "source": [
        "data = {\n",
        "    'birds': ['Cranes', 'Cranes', 'plovers', 'spoonbills', 'spoonbills', 'Cranes', 'plovers', 'Cranes', 'spoonbills', 'spoonbills'],\n",
        "    'age': [3.5, 4, 1.5, np.nan, 6, 3, 5.5, np.nan, 8, 4],\n",
        "    'visits': [2, 4, 3, 4, 3, 4, 2, 2, 3, 2],\n",
        "    'priority': ['yes', 'yes', 'no', 'yes', 'no', 'no', 'no', 'yes', 'no', 'no']\n",
        "}\n",
        "\n",
        "labels = ['a', 'b', 'c', 'd', 'e', 'f', 'g', 'h', 'i', 'j']\n",
        "\n",
        "birds = pd.DataFrame(data, index=labels)\n",
        "\n",
        "birds['priority'] = birds['priority'].replace({'yes': 1, 'no': 0})\n",
        "\n",
        "print(birds)\n"
      ],
      "metadata": {
        "id": "AJAPYiIHhcw9",
        "execution": {
          "iopub.status.busy": "2023-05-31T15:57:54.671956Z",
          "iopub.execute_input": "2023-05-31T15:57:54.673111Z",
          "iopub.status.idle": "2023-05-31T15:57:54.688445Z",
          "shell.execute_reply.started": "2023-05-31T15:57:54.673068Z",
          "shell.execute_reply": "2023-05-31T15:57:54.687320Z"
        },
        "trusted": true,
        "outputId": "5be6f6c7-106c-48e1-f63a-034c7a19d778"
      },
      "execution_count": null,
      "outputs": [
        {
          "name": "stdout",
          "text": "        birds  age  visits  priority\na      Cranes  3.5       2         1\nb      Cranes  4.0       4         1\nc     plovers  1.5       3         0\nd  spoonbills  NaN       4         1\ne  spoonbills  6.0       3         0\nf      Cranes  3.0       4         0\ng     plovers  5.5       2         0\nh      Cranes  NaN       2         1\ni  spoonbills  8.0       3         0\nj  spoonbills  4.0       2         0\n",
          "output_type": "stream"
        }
      ]
    },
    {
      "cell_type": "markdown",
      "source": [
        "**16. In the 'birds' column, change the 'Cranes' entries to 'trumpeters'.**"
      ],
      "metadata": {
        "id": "E2EFmujbhcxA"
      }
    },
    {
      "cell_type": "code",
      "source": [
        "data = {\n",
        "    'birds': ['Cranes', 'Cranes', 'plovers', 'spoonbills', 'spoonbills', 'Cranes', 'plovers', 'Cranes', 'spoonbills', 'spoonbills'],\n",
        "    'age': [3.5, 4, 1.5, np.nan, 6, 3, 5.5, np.nan, 8, 4],\n",
        "    'visits': [2, 4, 3, 4, 3, 4, 2, 2, 3, 2],\n",
        "    'priority': ['yes', 'yes', 'no', 'yes', 'no', 'no', 'no', 'yes', 'no', 'no']\n",
        "}\n",
        "\n",
        "labels = ['a', 'b', 'c', 'd', 'e', 'f', 'g', 'h', 'i', 'j']\n",
        "\n",
        "birds = pd.DataFrame(data, index=labels)\n",
        "\n",
        "birds['birds'] = birds['birds'].replace('Cranes', 'trumpeters')\n",
        "\n",
        "print(birds)\n"
      ],
      "metadata": {
        "id": "Bi29Cc6lhcxC",
        "execution": {
          "iopub.status.busy": "2023-05-31T15:59:08.220313Z",
          "iopub.execute_input": "2023-05-31T15:59:08.221134Z",
          "iopub.status.idle": "2023-05-31T15:59:08.235592Z",
          "shell.execute_reply.started": "2023-05-31T15:59:08.221097Z",
          "shell.execute_reply": "2023-05-31T15:59:08.234453Z"
        },
        "trusted": true,
        "outputId": "713bb574-ac25-4ea8-f3a1-2cf8b3c0a271"
      },
      "execution_count": null,
      "outputs": [
        {
          "name": "stdout",
          "text": "        birds  age  visits priority\na  trumpeters  3.5       2      yes\nb  trumpeters  4.0       4      yes\nc     plovers  1.5       3       no\nd  spoonbills  NaN       4      yes\ne  spoonbills  6.0       3       no\nf  trumpeters  3.0       4       no\ng     plovers  5.5       2       no\nh  trumpeters  NaN       2      yes\ni  spoonbills  8.0       3       no\nj  spoonbills  4.0       2       no\n",
          "output_type": "stream"
        }
      ]
    },
    {
      "cell_type": "code",
      "source": [],
      "metadata": {
        "id": "_0C6Ggi6wUa-"
      },
      "execution_count": null,
      "outputs": []
    }
  ]
}